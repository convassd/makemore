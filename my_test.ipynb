{
 "cells": [
  {
   "cell_type": "code",
   "execution_count": 2,
   "id": "dfd1d714",
   "metadata": {},
   "outputs": [],
   "source": [
    "import torch\n",
    "words = open('names.txt', 'r').read().splitlines()"
   ]
  },
  {
   "cell_type": "code",
   "execution_count": 3,
   "id": "30b6cbae",
   "metadata": {},
   "outputs": [],
   "source": [
    "# a dictionary that maps each character to a unique integer\n",
    "# print(f\"{sorted(set(''.join(words)))=}\")\n",
    "chars = sorted(list(set(''.join(words)))) # ['a', 'b', 'c',\n",
    "itos = dict(enumerate(chars, start=1))\n",
    "itos[0] = '.'\n",
    "stoi = {s:i for i,s in itos.items()}\n",
    "# print(f\"{itos=}\")"
   ]
  },
  {
   "cell_type": "code",
   "execution_count": 4,
   "id": "88de7b9c",
   "metadata": {},
   "outputs": [
    {
     "data": {
      "text/plain": [
       "['e', 'm', 'm', 'a']"
      ]
     },
     "execution_count": 4,
     "metadata": {},
     "output_type": "execute_result"
    }
   ],
   "source": [
    "list(words[0])"
   ]
  },
  {
   "cell_type": "code",
   "execution_count": 5,
   "id": "3a33579c",
   "metadata": {},
   "outputs": [
    {
     "name": "stdout",
     "output_type": "stream",
     "text": [
      "tensor([[ 0,  0,  0],\n",
      "        [ 0,  0,  5],\n",
      "        [ 0,  5, 13],\n",
      "        ...,\n",
      "        [26, 26, 25],\n",
      "        [26, 25, 26],\n",
      "        [25, 26, 24]]) tensor([ 5, 13, 13,  ..., 26, 24,  0])\n",
      "torch.Size([228146, 3]) torch.Size([228146])\n"
     ]
    }
   ],
   "source": [
    "block_size = 3\n",
    "\n",
    "X, Y = [], []\n",
    "for w in words:\n",
    "    context = [0] * block_size\n",
    "    for ch in w + '.':\n",
    "        Y_add = stoi[ch]\n",
    "        Y.append(Y_add)\n",
    "        X.append(context)\n",
    "        context = context[1:] + [Y_add]\n",
    "X = torch.tensor(X)\n",
    "Y = torch.tensor(Y)\n",
    "print(X, Y)\n",
    "print(X.shape, Y.shape)"
   ]
  },
  {
   "cell_type": "code",
   "execution_count": null,
   "id": "cbf85311",
   "metadata": {},
   "outputs": [
    {
     "name": "stdout",
     "output_type": "stream",
     "text": [
      "<generator object <genexpr> at 0x0000014C0A7F82B0>\n"
     ]
    }
   ],
   "source": [
    "# set the parameters\n",
    "g = torch.Generator().manual_seed(2147483647)\n",
    "C = torch.randn((27, 2), generator=g) # character embedding (27, 2)\n",
    "W1 = torch.randn((block_size * 2, 100), generator=g)\n",
    "b1 = torch.randn(100, generator=g)\n",
    "W2 = torch.randn((100, 27), generator=g)\n",
    "b2 = torch.randn(27, generator=g)\n",
    "parameters = [C, W1, b1, W2, b2]\n",
    "print(sum(p.nelement() for p in parameters)) # number of parameters\n"
   ]
  },
  {
   "cell_type": "code",
   "execution_count": null,
   "id": "0f29ba0f",
   "metadata": {},
   "outputs": [],
   "source": [
    "emb = C[X] # (N, block_size, 2)\n",
    "embcat = emb.view(emb.shape[0], -1) # (N, block_size*2)\n",
    "h = torch.tanh(embcat @ W1 + b1) # (N, 100)\n",
    "logits = h @ W2 + b2 # (N, 27)\n",
    "counts = logits.exp()\n"
   ]
  }
 ],
 "metadata": {
  "kernelspec": {
   "display_name": "Python (llm-lab)",
   "language": "python",
   "name": "llm-lab"
  },
  "language_info": {
   "codemirror_mode": {
    "name": "ipython",
    "version": 3
   },
   "file_extension": ".py",
   "mimetype": "text/x-python",
   "name": "python",
   "nbconvert_exporter": "python",
   "pygments_lexer": "ipython3",
   "version": "3.12.10"
  }
 },
 "nbformat": 4,
 "nbformat_minor": 5
}
