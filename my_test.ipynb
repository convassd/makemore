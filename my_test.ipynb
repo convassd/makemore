{
 "cells": [
  {
   "cell_type": "code",
   "execution_count": null,
   "id": "dfd1d714",
   "metadata": {},
   "outputs": [],
   "source": [
    "words = open('names.txt', 'r').read().splitlines()"
   ]
  }
 ],
 "metadata": {
  "language_info": {
   "name": "python"
  }
 },
 "nbformat": 4,
 "nbformat_minor": 5
}
