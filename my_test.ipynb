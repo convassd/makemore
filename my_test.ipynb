{
 "cells": [
  {
   "cell_type": "code",
   "execution_count": 3,
   "id": "dfd1d714",
   "metadata": {},
   "outputs": [],
   "source": [
    "import torch\n",
    "words = open('names.txt', 'r').read().splitlines()"
   ]
  },
  {
   "cell_type": "code",
   "execution_count": 10,
   "id": "30b6cbae",
   "metadata": {},
   "outputs": [],
   "source": [
    "# a dictionary that maps each character to a unique integer\n",
    "# print(f\"{sorted(set(''.join(words)))=}\")\n",
    "chars = sorted(list(set(''.join(words)))) # ['a', 'b', 'c',\n",
    "itos = dict(enumerate(chars, start=1))\n",
    "itos[0] = '.'\n",
    "stoi = {s:i for i,s in itos.items()}\n",
    "# print(f\"{itos=}\")"
   ]
  },
  {
   "cell_type": "code",
   "execution_count": null,
   "id": "88de7b9c",
   "metadata": {},
   "outputs": [
    {
     "data": {
      "text/plain": [
       "['e', 'm', 'm', 'a']"
      ]
     },
     "execution_count": 13,
     "metadata": {},
     "output_type": "execute_result"
    }
   ],
   "source": [
    "list(words[0])"
   ]
  },
  {
   "cell_type": "code",
   "execution_count": null,
   "id": "3a33579c",
   "metadata": {},
   "outputs": [],
   "source": [
    "block_size = 3\n",
    "\n",
    "X, Y = [], []\n",
    "for w in words:\n",
    "    context_s = block_size * '.' + w + '.'\n",
    "    context_i = stoi()\n",
    "    for i in range(len(w) + 1):\n",
    "        ch = stoi "
   ]
  },
  {
   "cell_type": "code",
   "execution_count": 20,
   "id": "cbf85311",
   "metadata": {},
   "outputs": [
    {
     "data": {
      "text/plain": [
       "'a'"
      ]
     },
     "execution_count": 20,
     "metadata": {},
     "output_type": "execute_result"
    }
   ],
   "source": [
    "block_size = 3\n",
    "w = words[0]\n",
    "itos[1]"
   ]
  }
 ],
 "metadata": {
  "kernelspec": {
   "display_name": "Python (llm-lab)",
   "language": "python",
   "name": "llm-lab"
  },
  "language_info": {
   "codemirror_mode": {
    "name": "ipython",
    "version": 3
   },
   "file_extension": ".py",
   "mimetype": "text/x-python",
   "name": "python",
   "nbconvert_exporter": "python",
   "pygments_lexer": "ipython3",
   "version": "3.12.10"
  }
 },
 "nbformat": 4,
 "nbformat_minor": 5
}
